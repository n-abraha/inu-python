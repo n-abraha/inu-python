{
 "cells": [
  {
   "attachments": {},
   "cell_type": "markdown",
   "metadata": {},
   "source": [
    "<strong>Q1: What are keywords in python? Using the keyword library, print all python keywords?</strong>\n",
    "\n",
    "<ul>\n",
    "<li>keywords in python are reserved words that cannot be used as ordinary identifiers. They are used to define the syntax and structure of the Python language.</li>\n",
    "</ul>\n",
    "<p> You can get the list of all keywords in Python by using the following code:</p>"
   ]
  },
  {
   "cell_type": "code",
   "execution_count": 1,
   "metadata": {},
   "outputs": [
    {
     "name": "stdout",
     "output_type": "stream",
     "text": [
      "['False', 'None', 'True', 'and', 'as', 'assert', 'async', 'await', 'break', 'class', 'continue', 'def', 'del', 'elif', 'else', 'except', 'finally', 'for', 'from', 'global', 'if', 'import', 'in', 'is', 'lambda', 'nonlocal', 'not', 'or', 'pass', 'raise', 'return', 'try', 'while', 'with', 'yield']\n"
     ]
    }
   ],
   "source": [
    "import keyword\n",
    "print(keyword.kwlist)"
   ]
  },
  {
   "attachments": {},
   "cell_type": "markdown",
   "metadata": {},
   "source": [
    "<strong>Q2: What are the rules to create variables in python?</strong>\n",
    "<ul>\n",
    "    <li>A variable name must start with a letter or the underscore character.</li>\n",
    "    <li>A variable name cannot start with a number.</li>\n",
    "    <li>A variable name can only contain alpha-numeric characters and underscores (A-z, 0-9, and _ )</li>\n",
    "    <li>A variable names are case-sensitive (age, Age and AGE are three different variables)</li>\n",
    "</ul>"
   ]
  },
  {
   "attachments": {},
   "cell_type": "markdown",
   "metadata": {},
   "source": [
    "<strong>Q3: What are the standards and conventions followed for the nomenclature of variables in\n",
    "python to improve code readability and maintainability?</strong>\n",
    "<ul>\n",
    "    <li>use a snake case for readability when defining a function/variable with multiple words</li>\n",
    "</ul>"
   ]
  },
  {
   "attachments": {},
   "cell_type": "markdown",
   "metadata": {},
   "source": [
    "<strong>Q4: What will happen if a keyword is used as a variable name?</strong>\n",
    "<ul>\n",
    "    <li>SyntaxError: cannot assign to Keyword</li>\n",
    "</ul>\n"
   ]
  },
  {
   "attachments": {},
   "cell_type": "markdown",
   "metadata": {},
   "source": [
    "<strong>Q5: For what purpose def keyword is used?</strong>\n",
    "<ul>\n",
    "    <li>The def keyword is used to create or define a function.</li>\n",
    "</ul>\n"
   ]
  },
  {
   "attachments": {},
   "cell_type": "markdown",
   "metadata": {},
   "source": [
    "<strong>Q6: What is the operation of this special character ‘\\’?</strong>\n",
    "<ul>\n",
    "    <li> An escape character we use it to insert characters that are illegal in a string</li>\n",
    "</ul>\n"
   ]
  },
  {
   "attachments": {},
   "cell_type": "markdown",
   "metadata": {},
   "source": [
    "<strong>Q.7 Give an example of the following conditions:</strong>\n",
    "<ul>\n",
    "    <li> Homogeneous list: [1, \"Ali\", 31.14, [5, 6, 7]]</li>\n",
    "    <li> Heterogeneous set: </li>\n",
    "    <li> Homogeneous tuple: (1, 2, 3, \"Tom\", [5, 6, 7]) </li>\n",
    "</ul>\n",
    "\n"
   ]
  },
  {
   "attachments": {},
   "cell_type": "markdown",
   "metadata": {},
   "source": [
    "<strong>Q.8 Explain the mutable and immutable data types with proper explanation & examples.</strong>\n",
    "<ul>\n",
    "    <li>An object whose internal state can be changed is mutable. Examples are are list, dictionary, set and user-defined classes.</li>\n",
    "    <li>immutable doesn't allow any change in the object once it has been created.: Examples are int, float, decimal, bool, string, tuple, and range</li>\n",
    "</ul>\n"
   ]
  },
  {
   "attachments": {},
   "cell_type": "markdown",
   "metadata": {},
   "source": [
    "<strong>Q.9. Write a code to create the given structure using only for loop.</strong>\n",
    "```\n",
    "*\n",
    "***\n",
    "*****\n",
    "*******\n",
    "*********\n",
    "```"
   ]
  },
  {
   "cell_type": "code",
   "execution_count": 2,
   "metadata": {},
   "outputs": [
    {
     "name": "stdout",
     "output_type": "stream",
     "text": [
      "\n",
      "*\n",
      "**\n",
      "***\n",
      "****\n",
      "*****\n"
     ]
    }
   ],
   "source": [
    "rows = 5\n",
    "for i in range(rows+1):\n",
    "    for j in range(i):\n",
    "        print(\"*\",end='')\n",
    "    print(\"\")"
   ]
  },
  {
   "attachments": {},
   "cell_type": "markdown",
   "metadata": {},
   "source": [
    "<strong>Q.10 Write a code to create the given structure using while loop.</strong>\n",
    "```\n",
    "|||||||||\n",
    "|||||||\n",
    "|||||\n",
    "|||\n",
    "|\n",
    "```"
   ]
  },
  {
   "cell_type": "code",
   "execution_count": 3,
   "metadata": {},
   "outputs": [
    {
     "name": "stdout",
     "output_type": "stream",
     "text": [
      "|||||\n",
      "||||\n",
      "|||\n",
      "||\n",
      "|\n",
      "\n"
     ]
    }
   ],
   "source": [
    "rows = 5\n",
    "for i in range(rows+1):\n",
    "    for j in range(rows, i, -1):\n",
    "        print(\"|\",end='')\n",
    "    print(\"\")"
   ]
  }
 ],
 "metadata": {
  "kernelspec": {
   "display_name": "Python 3",
   "language": "python",
   "name": "python3"
  },
  "language_info": {
   "codemirror_mode": {
    "name": "ipython",
    "version": 3
   },
   "file_extension": ".py",
   "mimetype": "text/x-python",
   "name": "python",
   "nbconvert_exporter": "python",
   "pygments_lexer": "ipython3",
   "version": "3.10.4"
  },
  "orig_nbformat": 4
 },
 "nbformat": 4,
 "nbformat_minor": 2
}
