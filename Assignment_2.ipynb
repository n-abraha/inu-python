{
 "cells": [
  {
   "attachments": {},
   "cell_type": "markdown",
   "metadata": {},
   "source": [
    "<strong>Q1: What are the two values of the Boolean data type? How do you write them?</strong>\n",
    "<ul>\n",
    "    <li>true</li>\n",
    "    <li>false</li>\n",
    "</ul>"
   ]
  },
  {
   "attachments": {},
   "cell_type": "markdown",
   "metadata": {},
   "source": [
    "<strong>Q2: What are the three different types of Boolean operators?</strong>\n",
    "<ul>\n",
    "    <li>and</li>\n",
    "    <li>or</li>\n",
    "    <li>not</li>\n",
    "</ul>"
   ]
  },
  {
   "attachments": {},
   "cell_type": "markdown",
   "metadata": {},
   "source": [
    "<strong>Q3: Make a list of each Boolean operator's truth tables (i.e., every possible combination of Boolean values for the operator and what it evaluates).</strong>\n",
    "<ul>\n",
    "    <li></li>\n",
    "</ul>"
   ]
  },
  {
   "attachments": {},
   "cell_type": "markdown",
   "metadata": {},
   "source": [
    "<strong>Q4: What are the values of the following expressions?</strong>\n",
    "<ul>\n",
    "    <li>(5 > 4) and (3 == 5)  --> false</li>\n",
    "    <li> not (5 > 4)  --> false</li>\n",
    "    <li>(5 > 4) or (3 == 5)   --> true</li>\n",
    "    <li>not ((5 > 4) or (3 == 5))   --> false</li>\n",
    "    <li>(True and True) and (True == False)    --> false</li>\n",
    "    <li>(not False) or (not True)      --> true</li>\n",
    "</ul>"
   ]
  },
  {
   "attachments": {},
   "cell_type": "markdown",
   "metadata": {},
   "source": [
    "<strong>Q5: What are the six comparison operators?</strong>\n",
    "<ul>\n",
    "    <li>less than</li>\n",
    "    <li>greater than</li>\n",
    "    <li>less than or equal to</li>\n",
    "    <li>greater than or equal to</li>\n",
    "    <li>equal to</li>\n",
    "    <li>not equal to</li>\n",
    "</ul>"
   ]
  },
  {
   "attachments": {},
   "cell_type": "markdown",
   "metadata": {},
   "source": [
    "<strong>Q6: How do you tell the difference between the equal to and assignment operators? Describe a condition and when you would use one</strong>\n",
    "<ul>\n",
    "    <li>Equal to: when checking two given operands are equal or not</li>\n",
    "    <li>Assignment operators : when assigning a value to a variable</li>\n",
    "</ul>"
   ]
  },
  {
   "attachments": {},
   "cell_type": "markdown",
   "metadata": {},
   "source": [
    "<strong>Q7: Identify the three blocks in this code:</strong>\n",
    "```spam = 0\n",
    "if spam == 10: ---------> One\n",
    "print('eggs')\n",
    "if spam > 5: -----------> Two\n",
    "print('bacon')\n",
    "else:     --------------> Three\n",
    "print('ham')\n",
    "print('spam')\n",
    "print('spam')\n",
    "```"
   ]
  },
  {
   "attachments": {},
   "cell_type": "markdown",
   "metadata": {},
   "source": [
    "<strong>Q8: Write code that prints Hello if 1 is stored in spam, prints Howdy if 2 is stored in spam, and prints Greetings! if anything else is stored in spam.</strong>"
   ]
  },
  {
   "cell_type": "code",
   "execution_count": 5,
   "metadata": {},
   "outputs": [
    {
     "name": "stdout",
     "output_type": "stream",
     "text": [
      "Hello\n"
     ]
    }
   ],
   "source": [
    "spam = int(input(\"Enter number\\n\"))\n",
    "if(spam == 1):\n",
    "    print(\"Hello\")\n",
    "elif(spam == 2):\n",
    "    print(\"Howdy\")\n",
    "else:\n",
    "    print(\"Greetings!\")\n"
   ]
  },
  {
   "attachments": {},
   "cell_type": "markdown",
   "metadata": {},
   "source": [
    "<strong>Q9: If your programme is stuck in an endless loop, what keys you’ll press?</strong>\n",
    "<ul>\n",
    "    <li>Ctrl+C</li>\n",
    "</ul>"
   ]
  },
  {
   "attachments": {},
   "cell_type": "markdown",
   "metadata": {},
   "source": [
    "<strong>Q10: How can you tell the difference between break and continue?</strong>\n",
    "<ul>\n",
    "    <li>The break statement is used to terminate the loop immediately when it is encountered.</li>\n",
    "    <li>The continue statement is used to skip the current iteration of the loop and the control flow of the program goes to the next iteration</li>\n",
    "</ul>"
   ]
  },
  {
   "attachments": {},
   "cell_type": "markdown",
   "metadata": {},
   "source": [
    "<strong>Q11: In a for loop, what is the difference between range (10), range(0, 10), and range(0, 10, 1)?</strong>\n",
    "<ul>\n",
    "    <li>range(10) means values from 0 to 9 </li>\n",
    "    <li>range(0,10) means values from 0 to 10 (but not including 10)</li>\n",
    "    <li>range(0,10,1)means increment value by adding a third parameter, in our case (1) which is a default sequence value</li>\n",
    "</ul>"
   ]
  },
  {
   "attachments": {},
   "cell_type": "markdown",
   "metadata": {},
   "source": [
    "<strong>Q12:Write a short program that prints the numbers 1 to 10 using a for loop. Then write an equivalent program that prints the numbers 1 to 10 using a while loop</strong>\n",
    "<ul>\n",
    "    <li>I am assuming 10 is inclusive:</li>\n",
    "</ul>"
   ]
  },
  {
   "cell_type": "code",
   "execution_count": 6,
   "metadata": {},
   "outputs": [
    {
     "name": "stdout",
     "output_type": "stream",
     "text": [
      "1\n",
      "2\n",
      "3\n",
      "4\n",
      "5\n",
      "6\n",
      "7\n",
      "8\n",
      "9\n",
      "10\n"
     ]
    }
   ],
   "source": [
    "for x in range(1,11):\n",
    "    print(x)"
   ]
  },
  {
   "cell_type": "code",
   "execution_count": 7,
   "metadata": {},
   "outputs": [
    {
     "name": "stdout",
     "output_type": "stream",
     "text": [
      "1\n",
      "2\n",
      "3\n",
      "4\n",
      "5\n",
      "6\n",
      "7\n",
      "8\n",
      "9\n",
      "10\n"
     ]
    }
   ],
   "source": [
    "x=1\n",
    "while x in range(1,11):\n",
    "    print(x)\n",
    "    x=x+1"
   ]
  },
  {
   "attachments": {},
   "cell_type": "markdown",
   "metadata": {},
   "source": [
    "<strong>Q13: If you had a function named bacon() inside a module named spam, how would you call it after importing spam?</strong>\n",
    "<ul>\n",
    "    <li>Import spam --> then -->  spam.bacon</li>\n",
    "</ul>"
   ]
  }
 ],
 "metadata": {
  "kernelspec": {
   "display_name": "Python 3",
   "language": "python",
   "name": "python3"
  },
  "language_info": {
   "codemirror_mode": {
    "name": "ipython",
    "version": 3
   },
   "file_extension": ".py",
   "mimetype": "text/x-python",
   "name": "python",
   "nbconvert_exporter": "python",
   "pygments_lexer": "ipython3",
   "version": "3.10.4"
  },
  "orig_nbformat": 4
 },
 "nbformat": 4,
 "nbformat_minor": 2
}
