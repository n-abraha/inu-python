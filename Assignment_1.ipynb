{
 "cells": [
  {
   "attachments": {},
   "cell_type": "markdown",
   "metadata": {},
   "source": [
    "<strong>Q1: In the below elements which of them are values or an expression? eg:- values can be integer or string and expressions will be mathematical operators.</strong>\n",
    "<ul>\n",
    "    <li>'hello' --> Value</li>\n",
    "    <li>-87.8 --> Value</li>\n",
    "    <li>6 --> Value</li>\n",
    "    <li>-  --> Expression</li>\n",
    "    <li>/ --> Expression</li>\n",
    "    <li>+ --> Expression</li>\n",
    "    <li>*  --> Expression</li>\n",
    "</ul>"
   ]
  },
  {
   "attachments": {},
   "cell_type": "markdown",
   "metadata": {},
   "source": [
    "<strong>Q2: What is the difference between string and variable?</strong>\n",
    "<ul>\n",
    "    <li>Variable is a container for storing a value.</li>\n",
    "    <li>String is a data type.</li>\n",
    "</ul>"
   ]
  },
  {
   "attachments": {},
   "cell_type": "markdown",
   "metadata": {},
   "source": [
    "<strong>Q3: Describe three different data types.</strong>\n",
    "<ul>\n",
    "    <li>Numeric data type: Int, float.</li>\n",
    "    <li>String data type: str</li>\n",
    "    <li>Sequence data type: list, tuple, and range</li>\n",
    "</ul>"
   ]
  },
  {
   "attachments": {},
   "cell_type": "markdown",
   "metadata": {},
   "source": [
    "<strong>Q4: What is an expression made up of? What do all expressions do? </strong>\n",
    "<ul>\n",
    "    <li>Expression is made up of values, variables, operators and calling functions and they all return a value.</li>\n",
    "</ul>"
   ]
  },
  {
   "attachments": {},
   "cell_type": "markdown",
   "metadata": {},
   "source": [
    "<strong>Q5: This assignment statements, like spam = 10. What is the difference between an expression and a statement?</strong>\n",
    "<ul>\n",
    "    <li>•\tAn expression produces some value, statement is not evaluated to some result.</li>\n",
    "</ul>"
   ]
  },
  {
   "attachments": {},
   "cell_type": "markdown",
   "metadata": {},
   "source": [
    "<strong>Q6: After running the following code, what does the variable bacon contain?</strong>\n",
    "<ul>\n",
    "    <li>bacon = 22 --> bacon + 1 --> // bacon will contain 22</li>\n",
    "</ul>"
   ]
  },
  {
   "attachments": {},
   "cell_type": "markdown",
   "metadata": {},
   "source": [
    "<strong>Q7: What should the values of the following two terms be?</strong>\n",
    "<ul>\n",
    "    <li>'spam' + 'spamspam' --> will concatenate --> 'spamspamspam'</li>\n",
    "    <li>'spam' * 3 --> will print ‘spam’ three times on the same line --> 'spamspamspam'</li>\n",
    "</ul>"
   ]
  },
  {
   "attachments": {},
   "cell_type": "markdown",
   "metadata": {},
   "source": [
    "<strong>Q8: Why is eggs a valid variable name while 100 is invalid?</strong>\n",
    "<ul>\n",
    "    <li>In python the first char of a variable name can’t be a digit</li>\n",
    "</ul>"
   ]
  },
  {
   "attachments": {},
   "cell_type": "markdown",
   "metadata": {},
   "source": [
    "<strong>Q9: What three functions can be used to get the integer, floating-point number, or string version of a value?</strong>\n",
    "<ul>\n",
    "    <li>int()</li>\n",
    "    <li>float()</li>\n",
    "    <li>str()</li>\n",
    "</ul>"
   ]
  },
  {
   "attachments": {},
   "cell_type": "markdown",
   "metadata": {},
   "source": [
    "<strong>Q10: Why does this expression cause an error? How can you fix it?</strong>\n",
    "<ul>\n",
    "    <li>'I have eaten ' + 99 + ' burritos.' --> the issue here is that we are trying to concat a string and a number (int), we can  put the whole expression in double quotes “I have eaten '+ 99 +  burritos.”</li>\n",
    "</ul>"
   ]
  }
 ],
 "metadata": {
  "kernelspec": {
   "display_name": "Python 3",
   "language": "python",
   "name": "python3"
  },
  "language_info": {
   "codemirror_mode": {
    "name": "ipython",
    "version": 3
   },
   "file_extension": ".py",
   "mimetype": "text/x-python",
   "name": "python",
   "nbconvert_exporter": "python",
   "pygments_lexer": "ipython3",
   "version": "3.10.4"
  },
  "orig_nbformat": 4
 },
 "nbformat": 4,
 "nbformat_minor": 2
}
