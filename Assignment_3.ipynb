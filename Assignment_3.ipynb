{
 "cells": [
  {
   "attachments": {},
   "cell_type": "markdown",
   "metadata": {},
   "source": [
    "<strong>Q1: Why are functions advantageous to have in your programs?</strong>\n",
    "<ul>\n",
    "    <li>Makes a program more readable and reusable</li>\n",
    "    <li>Reduce the size of a program by calling and using the function at different places in the program</li>\n",
    "</ul>\n"
   ]
  },
  {
   "attachments": {},
   "cell_type": "markdown",
   "metadata": {},
   "source": [
    "<strong>Q2: When does the code in a function run: when it's specified or when it's called?</strong>\n",
    "<ul>\n",
    "    <li>When it is called</li>\n",
    "</ul>\n"
   ]
  },
  {
   "attachments": {},
   "cell_type": "markdown",
   "metadata": {},
   "source": [
    "<strong>Q3: What statement creates a function?</strong>\n",
    "<ul>\n",
    "    <li>The def keyword, followed by a name of your choosing, followed by a set of parentheses which hold any parameters and ending with a colon</li>\n",
    "</ul>"
   ]
  },
  {
   "attachments": {},
   "cell_type": "markdown",
   "metadata": {},
   "source": [
    "<strong>Q4: What is the difference between a function and a function call?</strong>\n",
    "<ul>\n",
    "    <li>A function is a piece of code which enhances the reusability and modularity of your program. </li>\n",
    "    <li>A function call means invoking or calling that function. Unless a function is called there is no use of that function</li>\n",
    "</ul>"
   ]
  },
  {
   "attachments": {},
   "cell_type": "markdown",
   "metadata": {},
   "source": [
    "<strong>Q5: How many global scopes are there in a Python program? How many local scopes?</strong>\n",
    "<ul>\n",
    "    <li>There's only one global Python scope per program execution.</li>\n",
    "    <li>A local scope is created whenever a function is called.</li>\n",
    "</ul>\n"
   ]
  },
  {
   "attachments": {},
   "cell_type": "markdown",
   "metadata": {},
   "source": [
    "<strong>Q6: What happens to variables in a local scope when the function call returns?</strong>\n",
    "<ul>\n",
    "    <li>It’s lifetime expire when the function returns to the caller</li>\n",
    "</ul>\n"
   ]
  },
  {
   "attachments": {},
   "cell_type": "markdown",
   "metadata": {},
   "source": [
    "<strong>Q7: What is the concept of a return value? Is it possible to have a return value in an expression?</strong>\n",
    "<ul>\n",
    "    <li>A return is a value that a function returns to the calling script or function when it completes its task</li>\n",
    "    <li>it is not possible to have a return value in an expression</li>\n",
    "</ul>"
   ]
  },
  {
   "attachments": {},
   "cell_type": "markdown",
   "metadata": {},
   "source": [
    "<strong>Q8: If a function does not have a return statement, what is the return value of a call to that function?</strong>\n",
    "<ul>\n",
    "    <li>None in python</li>\n",
    "</ul>"
   ]
  },
  {
   "attachments": {},
   "cell_type": "markdown",
   "metadata": {},
   "source": [
    "<strong>Q9: How do you make a function variable refer to the global variable?</strong>\n",
    "<ul>\n",
    "    <li>We can use a global variable within other functions by declaring it as global</li>\n",
    "</ul>"
   ]
  },
  {
   "attachments": {},
   "cell_type": "markdown",
   "metadata": {},
   "source": [
    "<strong>Q10: What is the data type of None?</strong>\n",
    "<ul>\n",
    "    <li>It is a data type of the class NoneType</li>\n",
    "</ul>"
   ]
  },
  {
   "attachments": {},
   "cell_type": "markdown",
   "metadata": {},
   "source": [
    "<strong>Q11: What does the sentence import areallyourpetsnamederic do?</strong>\n",
    "<ul>\n",
    "    <li>The import will try to import a module called areallyourpetsnamederic</li>\n",
    "</ul>"
   ]
  },
  {
   "attachments": {},
   "cell_type": "markdown",
   "metadata": {},
   "source": [
    "<strong>Q12: If you had a bacon() feature in a spam module, what would you call it after importing spam?</strong>\n",
    "<ul>\n",
    "    <li>After importing the module spam (import spam), then you can call the feature as follow spam.bacon()</li>\n",
    "</ul>"
   ]
  },
  {
   "attachments": {},
   "cell_type": "markdown",
   "metadata": {},
   "source": [
    "<strong>Q13: What can you do to save a programme from crashing if it encounters an error?</strong>\n",
    "<ul>\n",
    "    <li>Use a try clause. </li>\n",
    "</ul>"
   ]
  },
  {
   "attachments": {},
   "cell_type": "markdown",
   "metadata": {},
   "source": [
    "<strong>Q14: What is the purpose of the try clause? What is the purpose of the except clause?</strong>\n",
    "<ul>\n",
    "    <li>The try block lets you test a block of code for errors</li>\n",
    "    <li>The except block lets you handle the error</li>\n",
    "</ul>"
   ]
  }
 ],
 "metadata": {
  "language_info": {
   "name": "python"
  },
  "orig_nbformat": 4
 },
 "nbformat": 4,
 "nbformat_minor": 2
}
