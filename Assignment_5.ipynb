{
 "cells": [
  {
   "attachments": {},
   "cell_type": "markdown",
   "metadata": {},
   "source": [
    "<strong>Q1: What does an empty dictionary's code look like?</strong>\n",
    "<ul>\n",
    "    <li>open and closed curly brackets {}</li>\n",
    "</ul>"
   ]
  },
  {
   "attachments": {},
   "cell_type": "markdown",
   "metadata": {},
   "source": [
    "<strong>Q2: What is the value of a dictionary value with the key 'foo' and the value 42?</strong>\n",
    "<ul>\n",
    "    <li>dictionary_value = {‘foo’:42}</li>\n",
    "</ul>"
   ]
  },
  {
   "attachments": {},
   "cell_type": "markdown",
   "metadata": {},
   "source": [
    "<strong>Q3: What is the most significant distinction between a dictionary and a list?</strong>\n",
    "<ul>\n",
    "    <li>List are ordered Items</li>\n",
    "    <li>Dictionary are unordered</li>\n",
    "</ul>"
   ]
  },
  {
   "attachments": {},
   "cell_type": "markdown",
   "metadata": {},
   "source": [
    "<strong>Q4: What happens if you try to access spam['foo'] if spam is {'bar': 100}?</strong>\n",
    "<ul>\n",
    "    <li>Will get a KeyError: ‘foo’</li>\n",
    "</ul>"
   ]
  },
  {
   "attachments": {},
   "cell_type": "markdown",
   "metadata": {},
   "source": [
    "<strong>Q5: If a dictionary is stored in spam, what is the difference between the expressions 'cat' in spam and 'cat' in spam.keys()?</strong>\n",
    "<ul>\n",
    "    <li>The in operator will check if the value exist in dictionary keys.</li>\n",
    "</ul>"
   ]
  },
  {
   "attachments": {},
   "cell_type": "markdown",
   "metadata": {},
   "source": [
    "<strong>Q6: If a dictionary is stored in spam, what is the difference between the expressions 'cat' in spam and 'cat' in spam.values()?</strong>\n",
    "<ul>\n",
    "    <li>'cat' in spam will check if there is ‘cat’ key in a dictionary</li>\n",
    "    <li>'cat' in spam.values() will check if there is a ‘cat’ value in  dictionary</li>\n",
    "</ul>"
   ]
  },
  {
   "attachments": {},
   "cell_type": "markdown",
   "metadata": {},
   "source": [
    "<strong>Q7: What is a shortcut for the following code?</strong>\n",
    "```\n",
    "if 'color' not in spam:\n",
    "spam['color'] = 'black'\n",
    "```\n",
    "<strong>Answer</strong>\n",
    "spam.setColor(‘color’, ‘black’)"
   ]
  },
  {
   "attachments": {},
   "cell_type": "markdown",
   "metadata": {},
   "source": [
    "<strong>How do you \"pretty print\" dictionary values using which module and function?</strong>\n",
    "<ul>\n",
    "    <li>Pprint.pprint()</li>\n",
    "</ul>"
   ]
  }
 ],
 "metadata": {
  "language_info": {
   "name": "python"
  },
  "orig_nbformat": 4
 },
 "nbformat": 4,
 "nbformat_minor": 2
}
