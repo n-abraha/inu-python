{
 "cells": [
  {
   "attachments": {},
   "cell_type": "markdown",
   "metadata": {},
   "source": [
    "<strong>Q.1. Create two int type variables, apply addition, subtraction, division and multiplications\n",
    "and store the results in variables. Then print the data in the following format by calling the\n",
    "variables:</strong>\n",
    "```\n",
    "First variable is __ & second variable is __.\n",
    "Addition: __ + __ = __\n",
    "Subtraction: __ - __ = __\n",
    "Multiplication: __ * __ = __\n",
    "Division: __ / __ = __\n",
    "```"
   ]
  },
  {
   "cell_type": "code",
   "execution_count": 15,
   "metadata": {},
   "outputs": [
    {
     "name": "stdout",
     "output_type": "stream",
     "text": [
      "First variable 10 & second variable is 5\n",
      "Addition: 10 + 5 = 15\n",
      "Subtraction: 10 - 5 = 5\n",
      "Multiplication: 10 * 5 = 50\n",
      "Division: 10 / 5 = 2.0\n"
     ]
    }
   ],
   "source": [
    "first_variable = 10;\n",
    "second_variable = 5;\n",
    "\n",
    "print('First variable' , first_variable ,'& second variable is' ,second_variable)\n",
    "print('Addition:' , first_variable ,'+' ,second_variable, '=',first_variable+second_variable )\n",
    "print('Subtraction:' , first_variable ,'-' ,second_variable, '=',first_variable-second_variable )\n",
    "print('Multiplication:' , first_variable ,'*' ,second_variable, '=',first_variable*second_variable )\n",
    "print('Division:' , first_variable ,'/' ,second_variable, '=',first_variable/second_variable )"
   ]
  },
  {
   "attachments": {},
   "cell_type": "markdown",
   "metadata": {},
   "source": [
    "<strong>Q.2 What is the difference between the following operators:</strong>\n",
    "<ul>\n",
    "    <li>‘/’ & ‘//’ : /  --> Floating point division and // --> floor division( integer division)</li>\n",
    "    <li>‘**’ & ‘^’ : ** -->  Exponentiation and ^ --> xor Sets each bit to 1 if only one of two bits is 1</li>\n",
    "</ul>"
   ]
  },
  {
   "attachments": {},
   "cell_type": "markdown",
   "metadata": {},
   "source": [
    "<strong>Q.3 List the logical operators:</strong>\n",
    "<ul>\n",
    "    <li>and , or and not</li>\n",
    "</ul>"
   ]
  },
  {
   "attachments": {},
   "cell_type": "markdown",
   "metadata": {},
   "source": [
    "<strong>Q.4 Explain right shift operator and left shift operator with examples.</strong>\n",
    "<ul>\n",
    "    <li> Left Shifts: When shifting left, the most-significant bit is lost, and a 00 bit is inserted on the other end. Example: 0010 << 1  →  0100 and 0010 << 2  →  1000</li>\n",
    "    <li> Right Shifts: When shifting right with a logical right shift, the least-significant bit is lost and a 00 is inserted on the other end. Example 1011 >>> 1  →  0101 and 1011 >>> 3  →  0001\n",
    "</li>\n",
    "</ul>"
   ]
  },
  {
   "attachments": {},
   "cell_type": "markdown",
   "metadata": {},
   "source": [
    "<strong>Q.5. Create a list containing int type data of length 15. Then write a code to check if 10 is\n",
    "present in the list or not.</strong>"
   ]
  },
  {
   "cell_type": "code",
   "execution_count": 25,
   "metadata": {},
   "outputs": [
    {
     "name": "stdout",
     "output_type": "stream",
     "text": [
      "Present:  10 at index 9\n"
     ]
    }
   ],
   "source": [
    "my_list = [1,2,3,4,5,6,7,8,9,10,11,12,13,14]\n",
    "for i in range(len(my_list)):\n",
    "    if(my_list[i] == 10):\n",
    "        print(\"Present: \", my_list[i], 'at index', i)"
   ]
  }
 ],
 "metadata": {
  "kernelspec": {
   "display_name": "Python 3",
   "language": "python",
   "name": "python3"
  },
  "language_info": {
   "codemirror_mode": {
    "name": "ipython",
    "version": 3
   },
   "file_extension": ".py",
   "mimetype": "text/x-python",
   "name": "python",
   "nbconvert_exporter": "python",
   "pygments_lexer": "ipython3",
   "version": "3.10.4"
  },
  "orig_nbformat": 4
 },
 "nbformat": 4,
 "nbformat_minor": 2
}
